{
 "cells": [
  {
   "cell_type": "code",
   "execution_count": 1,
   "metadata": {},
   "outputs": [],
   "source": [
    "import pandas as pd\n",
    "import numpy as np\n",
    "\n",
    "from sklearn.impute import SimpleImputer\n",
    "from sklearn.pipeline import Pipeline\n",
    "from sklearn.compose import ColumnTransformer, make_column_selector\n",
    "from sklearn.preprocessing import OneHotEncoder, OrdinalEncoder, StandardScaler\n",
    "from sklearn.linear_model import LinearRegression, Ridge, RidgeCV, SGDRegressor\n",
    "from sklearn.model_selection import RandomizedSearchCV, train_test_split\n",
    "\n"
   ]
  },
  {
   "cell_type": "code",
   "execution_count": 2,
   "metadata": {},
   "outputs": [],
   "source": [
    "dataset = pd.read_csv('train.csv')\n",
    "y = dataset[['SalePrice']]\n",
    "X = dataset.drop(['SalePrice', 'Id'], axis = 1)\n",
    "\n",
    "trainset = pd.read_csv('test.csv')\n"
   ]
  },
  {
   "cell_type": "code",
   "execution_count": null,
   "metadata": {},
   "outputs": [],
   "source": [
    "chg_to_category = ['MSSubClass', 'MSZoning', 'Street', 'Alley', 'LotShape',\n",
    "                   'LandContour', 'Utilities', 'LotConfig', 'LandSlope', \n",
    "                   'Neighborhood', 'Condition1', 'Condition2', 'BldgType',\n",
    "                   'HouseStyle', 'RoofStyle', 'RoofMatl', 'Exterior1st',\n",
    "                   'Exterior2nd', 'MasVnrType', 'ExterQual', 'ExterCond', \n",
    "                   'Foundation', 'BsmtQual', 'BsmtCond', 'BsmtExposure',\n",
    "                   'BsmtFinType1', 'BsmtFinType2', 'Heating', 'HeatingQC', \n",
    "                   'CentralAir', 'Electrical', 'KitchenQual', 'Functional',\n",
    "                   'FireplaceQu', 'GarageType', 'GarageFinish', 'GarageQual', \n",
    "                   'GarageCond', 'PavedDrive', 'PoolQC', 'Fence', 'MiscFeature', \n",
    "                   'MoSold', 'SaleType', 'SaleCondition']\n",
    "\n",
    "chg_to_numer = ['LotFrontage', 'LotArea', 'OverallQual', 'OverallCond', \n",
    "                'YearBuilt', 'YearRemodAdd', 'MasVnrArea', 'BsmtFinSF1',\n",
    "                'BsmtFinSF2', 'BsmtUnfSF', 'TotalBsmtSF', '1stFlrSF', '2ndFlrSF',\n",
    "                'LowQualFinSF', 'GrLivArea', 'BsmtFullBath', 'BsmtHalfBath', \n",
    "                'FullBath', 'HalfBath', 'BedroomAbvGr', 'KitchenAbvGr', \n",
    "                'TotRmsAbvGrd', 'Fireplaces', 'GarageYrBlt', 'GarageCars', \n",
    "                'GarageArea', 'WoodDeckSF', 'OpenPorchSF', 'EnclosedPorch',\n",
    "                '3SsnPorch', 'ScreenPorch', 'PoolArea', 'MiscVal', 'YrSold',\n",
    "                ]\n",
    "\n",
    "numerical_selector = make_column_selector(dtype_include=['int64', 'float64'])\n",
    "cat_selector = make_column_selector(dtype_include=['object'])\n"
   ]
  },
  {
   "cell_type": "code",
   "execution_count": null,
   "metadata": {},
   "outputs": [],
   "source": []
  },
  {
   "cell_type": "code",
   "execution_count": null,
   "metadata": {},
   "outputs": [],
   "source": []
  }
 ],
 "metadata": {
  "kernelspec": {
   "display_name": "kaggle",
   "language": "python",
   "name": "python3"
  },
  "language_info": {
   "codemirror_mode": {
    "name": "ipython",
    "version": 3
   },
   "file_extension": ".py",
   "mimetype": "text/x-python",
   "name": "python",
   "nbconvert_exporter": "python",
   "pygments_lexer": "ipython3",
   "version": "3.11.9"
  }
 },
 "nbformat": 4,
 "nbformat_minor": 2
}
